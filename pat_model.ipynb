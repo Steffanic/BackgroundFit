{
 "metadata": {
  "language_info": {
   "codemirror_mode": {
    "name": "ipython",
    "version": 3
   },
   "file_extension": ".py",
   "mimetype": "text/x-python",
   "name": "python",
   "nbconvert_exporter": "python",
   "pygments_lexer": "ipython3",
   "version": "3.8.5"
  },
  "orig_nbformat": 4,
  "kernelspec": {
   "name": "python3",
   "display_name": "Python 3.8.5 64-bit"
  },
  "interpreter": {
   "hash": "31f2aee4e71d21fbe5cf8b01ff0e069b9275f58929596ceb00d14d90e3e16cd6"
  }
 },
 "nbformat": 4,
 "nbformat_minor": 2,
 "cells": [
  {
   "cell_type": "code",
   "execution_count": 1,
   "metadata": {},
   "outputs": [],
   "source": [
    "import PatModel\n",
    "import numpy as np\n",
    "import matplotlib.pyplot as plt\n",
    "import ipywidgets as widgets\n",
    "%matplotlib widget\n"
   ]
  },
  {
   "cell_type": "code",
   "execution_count": 2,
   "metadata": {},
   "outputs": [],
   "source": [
    "params = {\"v_1t\":0, \"v_2t\":0.1, \"v_3t\":0.1, \"v_4t\":0.02, \"v_5t\":0, \"v_6t\":0, \"v_1a\":0, \"v_2a\":0.1, \"v_3a\":0.1, \"v_4a\":0.02, \"v_5a\":0, \"v_6a\":0, \"N^t\":1, \"N^a\":1}\n",
    "reaction_plane_order=2\n",
    "azimuth_width = np.pi / 6\n",
    "azimuth_center = 0\n",
    "delta_phi = np.linspace(-np.pi/2, 3*np.pi/2, 100)"
   ]
  },
  {
   "cell_type": "code",
   "execution_count": 3,
   "metadata": {},
   "outputs": [
    {
     "output_type": "display_data",
     "data": {
      "text/plain": "Canvas(toolbar=Toolbar(toolitems=[('Home', 'Reset original view', 'home', 'home'), ('Back', 'Back to previous …",
      "application/vnd.jupyter.widget-view+json": {
       "version_major": 2,
       "version_minor": 0,
       "model_id": "8ccd5b1b1fc24d95b22751bd38ff13cc"
      }
     },
     "metadata": {}
    },
    {
     "output_type": "display_data",
     "data": {
      "text/plain": "interactive(children=(Dropdown(description='reaction_plane_order', options=(2, 3), value=2), Dropdown(descript…",
      "application/vnd.jupyter.widget-view+json": {
       "version_major": 2,
       "version_minor": 0,
       "model_id": "aebb2f9aee604223802335f5bf1d2fb8"
      }
     },
     "metadata": {}
    }
   ],
   "source": [
    "fig, ax =plt.subplots(figsize=(5,5))\n",
    "ax.set_ylim([0.5, 1.5])\n",
    "\n",
    "\n",
    "@widgets.interact(reaction_plane_order=[2,3], azimuth_width=[np.pi/6, np.pi/9], azimuth_center=[-np.pi/4, -np.pi/6, 0, np.pi/6, np.pi/4, np.pi/3, np.pi/2, 3*np.pi/4], v_1t=(0, 0.1, 0.01), v_2t=(0, 0.3, 0.01), v_3t=(0, 0.2, 0.01), v_4t=(0, 0.1, 0.001), v_5t=(0, 0.1, 0.001), v_6t=(0, 0.1, 0.001), v_1a=(0, 0.1, 0.01), v_2a=(0, 0.3, 0.01), v_3a=(0, 0.2, 0.01), v_4a=(0, 0.1, 0.001), v_5a=(0, 0.1, 0.001), v_6a=(0, 0.1, 0.001), Nt=[np.pi], Na=[2*np.pi])\n",
    "def interactive_BG_plot(reaction_plane_order=2, azimuth_width=np.pi/6, azimuth_center=0, v_1t=0, v_2t=0.1, v_3t=0.1, v_4t=0.02, v_5t=0, v_6t=0, v_1a=0, v_2a=0.1, v_3a=0.1, v_4a=0.02, v_5a=0, v_6a=0, Nt=1, Na=1):\n",
    "    params = {\"v_1t\":v_1t, \"v_2t\":v_2t, \"v_3t\":v_3t, \"v_4t\":v_4t, \"v_5t\":v_5t, \"v_6t\":v_6t, \"v_1a\":v_1a, \"v_2a\":v_2a, \"v_3a\":v_3a, \"v_4a\":v_4a, \"v_5a\":v_5a, \"v_6a\":v_6a, \"N^t\":Nt, \"N^a\":Na}\n",
    "    [l.remove() for l in ax.lines]\n",
    "    ax.plot(delta_phi, PatModel.background(delta_phi, params, reaction_plane_order, azimuth_width, azimuth_center))"
   ]
  },
  {
   "cell_type": "code",
   "execution_count": 5,
   "metadata": {},
   "outputs": [],
   "source": [
    "params = {\"v_1t\":0, \"v_2t\":0.1, \"v_3t\":0.1, \"v_4t\":0.02, \"v_5t\":0, \"v_6t\":0, \"v_1a\":0, \"v_2a\":0.1, \"v_3a\":0.1, \"v_4a\":0.02, \"v_5a\":0, \"v_6a\":0, \"N^t\":np.pi/(2*np.pi/6), \"N^a\":2*np.pi}\n",
    "reaction_plane_order=2\n",
    "azimuth_width = np.pi / 6\n",
    "azimuth_center = [-np.pi/4,np.pi/4,3*np.pi/4]\n",
    "delta_phi = np.linspace(-np.pi/2, 3*np.pi/2, 100)\n",
    "styles = ['r-.', 'g-', 'b.']"
   ]
  },
  {
   "cell_type": "code",
   "execution_count": 7,
   "metadata": {},
   "outputs": [
    {
     "output_type": "display_data",
     "data": {
      "text/plain": "Canvas(toolbar=Toolbar(toolitems=[('Home', 'Reset original view', 'home', 'home'), ('Back', 'Back to previous …",
      "application/vnd.jupyter.widget-view+json": {
       "version_major": 2,
       "version_minor": 0,
       "model_id": "6f46d68649484f4aa64f1b2d8a60456f"
      }
     },
     "metadata": {}
    },
    {
     "output_type": "stream",
     "name": "stdout",
     "text": [
      "i:0, center:-0.7853981633974483\ni:1, center:0.7853981633974483\ni:2, center:2.356194490192345\n"
     ]
    }
   ],
   "source": [
    "fig, ax1 = plt.subplots(3, 1,figsize=(5,5))\n",
    "for i, (center, style) in enumerate(zip(azimuth_center, styles)):\n",
    "    print(f\"i:{i}, center:{center}\")\n",
    "    ax1[i].plot(delta_phi, PatModel.background(delta_phi, params, reaction_plane_order, azimuth_width, center), style, label=f\"\\phi_s = {center}\")\n",
    "    ax1[i].legend([f\"\\phi_s = {center}\"], loc='best')\n",
    "\n",
    "plt.show()"
   ]
  },
  {
   "cell_type": "code",
   "execution_count": null,
   "metadata": {},
   "outputs": [],
   "source": []
  }
 ]
}